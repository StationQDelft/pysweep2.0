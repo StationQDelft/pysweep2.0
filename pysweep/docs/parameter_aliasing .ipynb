{
 "cells": [
  {
   "cell_type": "code",
   "execution_count": 1,
   "metadata": {},
   "outputs": [
    {
     "name": "stderr",
     "output_type": "stream",
     "text": [
      "C:\\\\Users\\\\a-sochat\\\\development\\\\pysweep2.0\\pysweep\\data_storage\\qcodes.py:12: UserWarning: Your QOcDeS installation does not have the data set support. Make sure that your environment contains the right QCoDeS branch as data set support has not been merged yet in main. QCoDeS data set support is unavailable\n",
      "  \"Your QOcDeS installation does not have the data set support. Make sure that your environment \"\n"
     ]
    }
   ],
   "source": [
    "import sys\n",
    "sys.path.append(r\"C:\\\\Users\\\\a-sochat\\\\development\\\\pysweep2.0\")\n",
    "\n",
    "from pysweep import Alias, sweep, Measurement\n",
    "import qcodes\n",
    "from qcodes import Parameter"
   ]
  },
  {
   "cell_type": "code",
   "execution_count": 2,
   "metadata": {
    "collapsed": true
   },
   "outputs": [],
   "source": [
    "class Powersource(qcodes.Instrument):\n",
    "    def __init__(self, name): \n",
    "        super().__init__(name)\n",
    "        self._voltage = 0\n",
    "        \n",
    "        self.add_parameter(\n",
    "            name=\"voltage\", \n",
    "            set_cmd=self._set_voltage,\n",
    "            get_cmd=self._get_voltage,\n",
    "            unit=\"mV\"  # Stupid thing works in mV instead of Volt\n",
    "        )\n",
    "        \n",
    "    def _set_voltage(self, value): \n",
    "        self._voltage = value\n",
    "        \n",
    "    def _get_voltage(self):\n",
    "        return self._voltage"
   ]
  },
  {
   "cell_type": "code",
   "execution_count": 3,
   "metadata": {},
   "outputs": [],
   "source": [
    "pwr = Powersource(\"pwr\")"
   ]
  },
  {
   "cell_type": "code",
   "execution_count": 4,
   "metadata": {},
   "outputs": [],
   "source": [
    "gate = Alias(pwr.voltage, name=\"gate\", mapping=1E-3, unit=\"V\", label=\"gate voltage\")"
   ]
  },
  {
   "cell_type": "code",
   "execution_count": 5,
   "metadata": {},
   "outputs": [],
   "source": [
    "gate(3) # Set at 3 V"
   ]
  },
  {
   "cell_type": "code",
   "execution_count": 6,
   "metadata": {},
   "outputs": [
    {
     "data": {
      "text/plain": [
       "3.0"
      ]
     },
     "execution_count": 6,
     "metadata": {},
     "output_type": "execute_result"
    }
   ],
   "source": [
    "gate()"
   ]
  },
  {
   "cell_type": "code",
   "execution_count": 7,
   "metadata": {},
   "outputs": [
    {
     "data": {
      "text/plain": [
       "3000.0"
      ]
     },
     "execution_count": 7,
     "metadata": {},
     "output_type": "execute_result"
    }
   ],
   "source": [
    "pwr.voltage()"
   ]
  },
  {
   "cell_type": "code",
   "execution_count": 8,
   "metadata": {},
   "outputs": [
    {
     "data": {
      "text/plain": [
       "{'__class__': '__main__.Powersource',\n",
       " 'functions': {},\n",
       " 'name': 'pwr',\n",
       " 'parameters': {'IDN': {'__class__': 'qcodes.instrument.parameter.StandardParameter',\n",
       "   'instrument': '__main__.Powersource',\n",
       "   'instrument_name': 'pwr',\n",
       "   'label': 'IDN',\n",
       "   'name': 'IDN',\n",
       "   'ts': None,\n",
       "   'unit': '',\n",
       "   'vals': '<Anything>',\n",
       "   'value': None},\n",
       "  'gate': {'__class__': 'pysweep.parameter_alias.Alias',\n",
       "   'instrument': '__main__.Powersource',\n",
       "   'instrument_name': 'pwr',\n",
       "   'label': 'gate voltage',\n",
       "   'metadata': {'alias_of': 'pwr.voltage',\n",
       "    'mapping': 'Linear map: this = original * 0.001'},\n",
       "   'name': 'gate',\n",
       "   'ts': '2017-11-17 09:42:01',\n",
       "   'unit': 'V',\n",
       "   'vals': '<Numbers>',\n",
       "   'value': 3.0},\n",
       "  'voltage': {'__class__': 'qcodes.instrument.parameter.StandardParameter',\n",
       "   'instrument': '__main__.Powersource',\n",
       "   'instrument_name': 'pwr',\n",
       "   'label': 'voltage',\n",
       "   'name': 'voltage',\n",
       "   'ts': '2017-11-17 09:42:01',\n",
       "   'unit': 'mV',\n",
       "   'vals': '<Numbers>',\n",
       "   'value': 3000.0}},\n",
       " 'submodules': {}}"
      ]
     },
     "execution_count": 8,
     "metadata": {},
     "output_type": "execute_result"
    }
   ],
   "source": [
    "pwr.snapshot()"
   ]
  },
  {
   "cell_type": "code",
   "execution_count": 9,
   "metadata": {},
   "outputs": [],
   "source": [
    "pwr.voltage(4000)  # 4000 mV"
   ]
  },
  {
   "cell_type": "code",
   "execution_count": 10,
   "metadata": {},
   "outputs": [
    {
     "data": {
      "text/plain": [
       "4.0"
      ]
     },
     "execution_count": 10,
     "metadata": {},
     "output_type": "execute_result"
    }
   ],
   "source": [
    "gate()"
   ]
  },
  {
   "cell_type": "code",
   "execution_count": null,
   "metadata": {},
   "outputs": [],
   "source": []
  },
  {
   "cell_type": "code",
   "execution_count": null,
   "metadata": {},
   "outputs": [],
   "source": []
  },
  {
   "cell_type": "code",
   "execution_count": null,
   "metadata": {
    "collapsed": true
   },
   "outputs": [],
   "source": []
  }
 ],
 "metadata": {
  "kernelspec": {
   "display_name": "Python 3",
   "language": "python",
   "name": "python3"
  },
  "language_info": {
   "codemirror_mode": {
    "name": "ipython",
    "version": 3
   },
   "file_extension": ".py",
   "mimetype": "text/x-python",
   "name": "python",
   "nbconvert_exporter": "python",
   "pygments_lexer": "ipython3",
   "version": "3.6.3"
  }
 },
 "nbformat": 4,
 "nbformat_minor": 2
}
