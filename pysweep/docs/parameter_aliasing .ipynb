{
 "cells": [
  {
   "cell_type": "code",
   "execution_count": 1,
   "metadata": {
    "collapsed": true
   },
   "outputs": [],
   "source": [
    "import copy\n",
    "import qcodes\n",
    "#from qcodes import StandardParameter"
   ]
  },
  {
   "cell_type": "code",
   "execution_count": 2,
   "metadata": {
    "collapsed": true
   },
   "outputs": [],
   "source": [
    "class Powersource(qcodes.Instrument):\n",
    "    def __init__(self, name): \n",
    "        super().__init__(name)\n",
    "        self._voltage = 0\n",
    "        \n",
    "        self.add_parameter(\n",
    "            name=\"voltage\", \n",
    "            set_cmd=self._set_voltage,\n",
    "            get_cmd=self._get_voltage,\n",
    "            unit=\"mV\"  # Stupid thing works in mV instead of Volt\n",
    "        )\n",
    "        \n",
    "    def _set_voltage(self, value): \n",
    "        self._voltage = value\n",
    "        \n",
    "    def _get_voltage(self):\n",
    "        return self._voltage"
   ]
  },
  {
   "cell_type": "code",
   "execution_count": 3,
   "metadata": {
    "collapsed": true
   },
   "outputs": [],
   "source": [
    "# This cell works, but maybe its not how we want to do things in the long run \n",
    "\n",
    "class LinearMapping: \n",
    "    def __init__(self, conversion_factor): \n",
    "        self._conversion_factor = conversion_factor\n",
    "    \n",
    "    def __call__(self, value): \n",
    "        return value * self._conversion_factor\n",
    "    \n",
    "    def inverse(self, value): \n",
    "        return value / self._conversion_factor\n",
    "\n",
    "def alias(parameter, name, mapping, **kwargs):\n",
    "    \n",
    "    name = name or parameter.name\n",
    "    \n",
    "    if isinstance(mapping, float) or isinstance(mapping, int): \n",
    "        mapping = LinearMapping(mapping)\n",
    "    \n",
    "    instrument = parameter._instrument  # We are accessing a provate variable here, which is not ideal \n",
    "    \n",
    "    instrument.add_parameter(\n",
    "        name=name, \n",
    "        set_cmd=lambda value: parameter(mapping(value)), \n",
    "        get_cmd=lambda: mapping.inverse(parameter()), \n",
    "        **kwargs\n",
    "    )\n",
    "    \n",
    "    return getattr(instrument, name)"
   ]
  },
  {
   "cell_type": "code",
   "execution_count": 11,
   "metadata": {
    "collapsed": true
   },
   "outputs": [],
   "source": [
    "# This cell does not work (yet), but maybe this is the way forward \n",
    "\n",
    "def alias(parameter, mapping, **kwargs): \n",
    "    \n",
    "    if isinstance(mapping, float) or isinstance(mapping, int): \n",
    "        mapping = LinearMapping(mapping)\n",
    "    \n",
    "    # The proposal is to add a copy method on the Parameter base class. The copy method shall return a new parameter \n",
    "    # of the same type and with the same attributes (including instrument) as the original, except where this is overriden \n",
    "    # by the copy arguments. \n",
    "    new_parameter = parameter.copy(\n",
    "        set_cmd=lambda value: parameter(mapping(value)), \n",
    "        get_cmd=lambda: mapping.inverse(parameter()), \n",
    "        **kwargs\n",
    "    )\n",
    "    \n",
    "    return new_parameter"
   ]
  },
  {
   "cell_type": "code",
   "execution_count": 4,
   "metadata": {},
   "outputs": [],
   "source": [
    "pwr = Powersource(\"pwr\")"
   ]
  },
  {
   "cell_type": "code",
   "execution_count": 5,
   "metadata": {},
   "outputs": [],
   "source": [
    "gate = alias(pwr.voltage, name=\"gate\", mapping=1E-3, unit=\"V\", label=\"gate voltage\")"
   ]
  },
  {
   "cell_type": "code",
   "execution_count": 6,
   "metadata": {},
   "outputs": [],
   "source": [
    "gate(3) # Set at 3 V"
   ]
  },
  {
   "cell_type": "code",
   "execution_count": 7,
   "metadata": {},
   "outputs": [
    {
     "data": {
      "text/plain": [
       "3.0"
      ]
     },
     "execution_count": 7,
     "metadata": {},
     "output_type": "execute_result"
    }
   ],
   "source": [
    "gate()"
   ]
  },
  {
   "cell_type": "code",
   "execution_count": 8,
   "metadata": {},
   "outputs": [
    {
     "data": {
      "text/plain": [
       "0.003"
      ]
     },
     "execution_count": 8,
     "metadata": {},
     "output_type": "execute_result"
    }
   ],
   "source": [
    "pwr.voltage()"
   ]
  },
  {
   "cell_type": "code",
   "execution_count": 9,
   "metadata": {},
   "outputs": [
    {
     "data": {
      "text/plain": [
       "{'__class__': '__main__.Powersource',\n",
       " 'functions': {},\n",
       " 'name': 'pwr',\n",
       " 'parameters': {'IDN': {'__class__': 'qcodes.instrument.parameter.StandardParameter',\n",
       "   'instrument': '__main__.Powersource',\n",
       "   'instrument_name': 'pwr',\n",
       "   'label': 'IDN',\n",
       "   'name': 'IDN',\n",
       "   'ts': None,\n",
       "   'unit': '',\n",
       "   'vals': '<Anything>',\n",
       "   'value': None},\n",
       "  'gate': {'__class__': 'qcodes.instrument.parameter.StandardParameter',\n",
       "   'instrument': '__main__.Powersource',\n",
       "   'instrument_name': 'pwr',\n",
       "   'label': 'gate voltage',\n",
       "   'name': 'gate',\n",
       "   'ts': '2017-11-16 14:36:53',\n",
       "   'unit': 'V',\n",
       "   'vals': '<Numbers>',\n",
       "   'value': 3.0},\n",
       "  'voltage': {'__class__': 'qcodes.instrument.parameter.StandardParameter',\n",
       "   'instrument': '__main__.Powersource',\n",
       "   'instrument_name': 'pwr',\n",
       "   'label': 'voltage',\n",
       "   'name': 'voltage',\n",
       "   'ts': '2017-11-16 14:36:55',\n",
       "   'unit': 'mV',\n",
       "   'vals': '<Numbers>',\n",
       "   'value': 0.003}},\n",
       " 'submodules': {}}"
      ]
     },
     "execution_count": 9,
     "metadata": {},
     "output_type": "execute_result"
    }
   ],
   "source": [
    "pwr.snapshot()"
   ]
  },
  {
   "cell_type": "code",
   "execution_count": 10,
   "metadata": {},
   "outputs": [
    {
     "data": {
      "text/plain": [
       "{'__class__': 'qcodes.instrument.parameter.StandardParameter',\n",
       " 'instrument': '__main__.Powersource',\n",
       " 'instrument_name': 'pwr',\n",
       " 'label': 'voltage',\n",
       " 'name': 'voltage',\n",
       " 'ts': '2017-11-16 14:36:55',\n",
       " 'unit': 'mV',\n",
       " 'vals': '<Numbers>',\n",
       " 'value': 0.003}"
      ]
     },
     "execution_count": 10,
     "metadata": {},
     "output_type": "execute_result"
    }
   ],
   "source": [
    "pwr.voltage.snapshot()"
   ]
  },
  {
   "cell_type": "code",
   "execution_count": 11,
   "metadata": {},
   "outputs": [
    {
     "data": {
      "text/plain": [
       "{'__class__': 'qcodes.instrument.parameter.StandardParameter',\n",
       " 'instrument': '__main__.Powersource',\n",
       " 'instrument_name': 'pwr',\n",
       " 'label': 'gate voltage',\n",
       " 'name': 'gate',\n",
       " 'ts': '2017-11-16 14:36:53',\n",
       " 'unit': 'V',\n",
       " 'vals': '<Numbers>',\n",
       " 'value': 3.0}"
      ]
     },
     "execution_count": 11,
     "metadata": {},
     "output_type": "execute_result"
    }
   ],
   "source": [
    "gate.snapshot()"
   ]
  },
  {
   "cell_type": "code",
   "execution_count": 12,
   "metadata": {},
   "outputs": [
    {
     "data": {
      "text/plain": [
       "{}"
      ]
     },
     "execution_count": 12,
     "metadata": {},
     "output_type": "execute_result"
    }
   ],
   "source": [
    "gate.metadata"
   ]
  },
  {
   "cell_type": "code",
   "execution_count": 13,
   "metadata": {},
   "outputs": [
    {
     "data": {
      "text/plain": [
       "{}"
      ]
     },
     "execution_count": 13,
     "metadata": {},
     "output_type": "execute_result"
    }
   ],
   "source": [
    "pwr.voltage.metadata"
   ]
  },
  {
   "cell_type": "code",
   "execution_count": null,
   "metadata": {
    "collapsed": true
   },
   "outputs": [],
   "source": []
  }
 ],
 "metadata": {
  "kernelspec": {
   "display_name": "Python 3",
   "language": "python",
   "name": "python3"
  },
  "language_info": {
   "codemirror_mode": {
    "name": "ipython",
    "version": 3
   },
   "file_extension": ".py",
   "mimetype": "text/x-python",
   "name": "python",
   "nbconvert_exporter": "python",
   "pygments_lexer": "ipython3",
   "version": "3.6.3"
  }
 },
 "nbformat": 4,
 "nbformat_minor": 2
}
