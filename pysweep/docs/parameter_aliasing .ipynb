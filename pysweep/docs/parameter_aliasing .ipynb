{
 "cells": [
  {
   "cell_type": "code",
   "execution_count": 1,
   "metadata": {
    "collapsed": true
   },
   "outputs": [],
   "source": [
    "import copy\n",
    "import qcodes\n",
    "from qcodes import Parameter"
   ]
  },
  {
   "cell_type": "code",
   "execution_count": 2,
   "metadata": {
    "collapsed": true
   },
   "outputs": [],
   "source": [
    "class Powersource(qcodes.Instrument):\n",
    "    def __init__(self, name): \n",
    "        super().__init__(name)\n",
    "        self._voltage = 0\n",
    "        \n",
    "        self.add_parameter(\n",
    "            name=\"voltage\", \n",
    "            set_cmd=self._set_voltage,\n",
    "            get_cmd=self._get_voltage,\n",
    "            unit=\"mV\"  # Stupid thing works in mV instead of Volt\n",
    "        )\n",
    "        \n",
    "    def _set_voltage(self, value): \n",
    "        self._voltage = value\n",
    "        \n",
    "    def _get_voltage(self):\n",
    "        return self._voltage"
   ]
  },
  {
   "cell_type": "code",
   "execution_count": 3,
   "metadata": {
    "collapsed": true
   },
   "outputs": [],
   "source": [
    "\n",
    "class LinearMapping: \n",
    "    def __init__(self, conversion_factor): \n",
    "        self._conversion_factor = conversion_factor\n",
    "    \n",
    "    def __call__(self, value): \n",
    "        return value * self._conversion_factor\n",
    "    \n",
    "    def inverse(self, value): \n",
    "        return value / self._conversion_factor\n",
    "\n",
    "class Alias(Parameter):\n",
    "    def __init__(self, parameter, name, instrument=None, mapping=None, **kwargs):\n",
    "        \n",
    "        self._parameter = parameter\n",
    "        self.name = name\n",
    "\n",
    "        if not instrument:\n",
    "            instrument = getattr(parameter, \"_instrument\", None)\n",
    "            \n",
    "        super().__init__(\n",
    "            name=self.name,\n",
    "            instrument=instrument,\n",
    "            metadata=parameter.metadata,\n",
    "            **kwargs\n",
    "        )\n",
    "\n",
    "        if mapping is None:\n",
    "            self._mapping = LinearMapping(1)\n",
    "        \n",
    "        elif isinstance(mapping, float) or isinstance(mapping, int):\n",
    "            self._mapping = LinearMapping(mapping)\n",
    "        else:\n",
    "            self._mapping = mapping\n",
    "        \n",
    "        if instrument is not None: \n",
    "            instrument.parameters[name] = self\n",
    "\n",
    "    def set(self, value):\n",
    "        self._save_val(value)\n",
    "        self._parameter(self._mapping(value))\n",
    "\n",
    "    def get(self):\n",
    "        value = self._mapping.inverse(self._parameter())\n",
    "        self._save_val(value)\n",
    "        return value"
   ]
  },
  {
   "cell_type": "code",
   "execution_count": 4,
   "metadata": {
    "collapsed": true
   },
   "outputs": [],
   "source": [
    "def alias(parameter, name, instrument=None, mapping=None, **kwargs):\n",
    "    return Alias(parameter, name, instrument=instrument, mapping=mapping, **kwargs)"
   ]
  },
  {
   "cell_type": "code",
   "execution_count": 11,
   "metadata": {
    "collapsed": true
   },
   "outputs": [],
   "source": [
    "# This cell does not work (yet), but maybe this is the way forward \n",
    "\n",
    "def alias(parameter, mapping, **kwargs): \n",
    "    \n",
    "    if isinstance(mapping, float) or isinstance(mapping, int): \n",
    "        mapping = LinearMapping(mapping)\n",
    "    \n",
    "    # The proposal is to add a copy method on the Parameter base class. The copy method shall return a new parameter \n",
    "    # of the same type and with the same attributes (including instrument) as the original, except where this is overriden \n",
    "    # by the copy arguments. \n",
    "    new_parameter = parameter.copy(\n",
    "        set_cmd=lambda value: parameter(mapping(value)), \n",
    "        get_cmd=lambda: mapping.inverse(parameter()), \n",
    "        **kwargs\n",
    "    )\n",
    "    \n",
    "    return new_parameter"
   ]
  },
  {
   "cell_type": "code",
   "execution_count": 5,
   "metadata": {},
   "outputs": [],
   "source": [
    "pwr = Powersource(\"pwr\")"
   ]
  },
  {
   "cell_type": "code",
   "execution_count": 6,
   "metadata": {},
   "outputs": [],
   "source": [
    "gate = alias(pwr.voltage, name=\"gate\", mapping=1E3, unit=\"V\", label=\"gate voltage\")"
   ]
  },
  {
   "cell_type": "code",
   "execution_count": 7,
   "metadata": {},
   "outputs": [],
   "source": [
    "gate(3) # Set at 3 V"
   ]
  },
  {
   "cell_type": "code",
   "execution_count": 8,
   "metadata": {},
   "outputs": [
    {
     "data": {
      "text/plain": [
       "3.0"
      ]
     },
     "execution_count": 8,
     "metadata": {},
     "output_type": "execute_result"
    }
   ],
   "source": [
    "gate()"
   ]
  },
  {
   "cell_type": "code",
   "execution_count": 9,
   "metadata": {},
   "outputs": [
    {
     "data": {
      "text/plain": [
       "0.003"
      ]
     },
     "execution_count": 9,
     "metadata": {},
     "output_type": "execute_result"
    }
   ],
   "source": [
    "pwr.voltage()"
   ]
  },
  {
   "cell_type": "code",
   "execution_count": 10,
   "metadata": {},
   "outputs": [
    {
     "data": {
      "text/plain": [
       "{'__class__': '__main__.Powersource',\n",
       " 'functions': {},\n",
       " 'name': 'pwr',\n",
       " 'parameters': {'IDN': {'__class__': 'qcodes.instrument.parameter.StandardParameter',\n",
       "   'instrument': '__main__.Powersource',\n",
       "   'instrument_name': 'pwr',\n",
       "   'label': 'IDN',\n",
       "   'name': 'IDN',\n",
       "   'ts': None,\n",
       "   'unit': '',\n",
       "   'vals': '<Anything>',\n",
       "   'value': None},\n",
       "  'gate': {'__class__': '__main__.Alias',\n",
       "   'instrument': '__main__.Powersource',\n",
       "   'instrument_name': 'pwr',\n",
       "   'label': 'gate voltage',\n",
       "   'name': 'gate',\n",
       "   'ts': '2017-11-16 15:38:17',\n",
       "   'unit': 'V',\n",
       "   'vals': '<Numbers>',\n",
       "   'value': 3.0},\n",
       "  'voltage': {'__class__': 'qcodes.instrument.parameter.StandardParameter',\n",
       "   'instrument': '__main__.Powersource',\n",
       "   'instrument_name': 'pwr',\n",
       "   'label': 'voltage',\n",
       "   'name': 'voltage',\n",
       "   'ts': '2017-11-16 15:38:17',\n",
       "   'unit': 'mV',\n",
       "   'vals': '<Numbers>',\n",
       "   'value': 0.003}},\n",
       " 'submodules': {}}"
      ]
     },
     "execution_count": 10,
     "metadata": {},
     "output_type": "execute_result"
    }
   ],
   "source": [
    "pwr.snapshot()"
   ]
  },
  {
   "cell_type": "code",
   "execution_count": 11,
   "metadata": {},
   "outputs": [
    {
     "data": {
      "text/plain": [
       "{'__class__': 'qcodes.instrument.parameter.StandardParameter',\n",
       " 'instrument': '__main__.Powersource',\n",
       " 'instrument_name': 'pwr',\n",
       " 'label': 'voltage',\n",
       " 'name': 'voltage',\n",
       " 'ts': '2017-11-16 15:38:17',\n",
       " 'unit': 'mV',\n",
       " 'vals': '<Numbers>',\n",
       " 'value': 0.003}"
      ]
     },
     "execution_count": 11,
     "metadata": {},
     "output_type": "execute_result"
    }
   ],
   "source": [
    "pwr.voltage.snapshot()"
   ]
  },
  {
   "cell_type": "code",
   "execution_count": 12,
   "metadata": {},
   "outputs": [
    {
     "data": {
      "text/plain": [
       "{'__class__': '__main__.Alias',\n",
       " 'instrument': '__main__.Powersource',\n",
       " 'instrument_name': 'pwr',\n",
       " 'label': 'gate voltage',\n",
       " 'name': 'gate',\n",
       " 'ts': '2017-11-16 15:38:17',\n",
       " 'unit': 'V',\n",
       " 'vals': '<Numbers>',\n",
       " 'value': 3.0}"
      ]
     },
     "execution_count": 12,
     "metadata": {},
     "output_type": "execute_result"
    }
   ],
   "source": [
    "gate.snapshot()"
   ]
  },
  {
   "cell_type": "code",
   "execution_count": 13,
   "metadata": {},
   "outputs": [
    {
     "data": {
      "text/plain": [
       "{}"
      ]
     },
     "execution_count": 13,
     "metadata": {},
     "output_type": "execute_result"
    }
   ],
   "source": [
    "gate.metadata"
   ]
  },
  {
   "cell_type": "code",
   "execution_count": 14,
   "metadata": {},
   "outputs": [
    {
     "data": {
      "text/plain": [
       "{}"
      ]
     },
     "execution_count": 14,
     "metadata": {},
     "output_type": "execute_result"
    }
   ],
   "source": [
    "pwr.voltage.metadata"
   ]
  },
  {
   "cell_type": "code",
   "execution_count": 15,
   "metadata": {
    "collapsed": true
   },
   "outputs": [],
   "source": [
    "\n",
    "\n",
    "prefix_table = {\n",
    "    \"nano\": 1E-9,\n",
    "    \"micro\": 1E-6,\n",
    "    \"milli\": 1E-3,\n",
    "    \"unit\": 1,\n",
    "    \"kilo\": 1000,\n",
    "    \"mega\": 1E6,\n",
    "    \"giga\": 1E9\n",
    "}\n",
    "\n"
   ]
  },
  {
   "cell_type": "code",
   "execution_count": 19,
   "metadata": {},
   "outputs": [
    {
     "data": {
      "text/plain": [
       "[('nano', 'micro'),\n",
       " ('nano', 'milli'),\n",
       " ('nano', 'unit'),\n",
       " ('nano', 'kilo'),\n",
       " ('nano', 'mega'),\n",
       " ('nano', 'giga'),\n",
       " ('micro', 'milli'),\n",
       " ('micro', 'unit'),\n",
       " ('micro', 'kilo'),\n",
       " ('micro', 'mega'),\n",
       " ('micro', 'giga'),\n",
       " ('milli', 'unit'),\n",
       " ('milli', 'kilo'),\n",
       " ('milli', 'mega'),\n",
       " ('milli', 'giga'),\n",
       " ('unit', 'kilo'),\n",
       " ('unit', 'mega'),\n",
       " ('unit', 'giga'),\n",
       " ('kilo', 'mega'),\n",
       " ('kilo', 'giga'),\n",
       " ('mega', 'giga')]"
      ]
     },
     "execution_count": 19,
     "metadata": {},
     "output_type": "execute_result"
    }
   ],
   "source": [
    "list(combinations(prefix_table, 2))"
   ]
  },
  {
   "cell_type": "code",
   "execution_count": 21,
   "metadata": {},
   "outputs": [],
   "source": [
    "conversion_table = {\n",
    "    \"{} to {}\".format(frm, to): prefix_table[frm] / prefix_table[to] for frm, to in combinations(prefix_table, 2)\n",
    "}"
   ]
  },
  {
   "cell_type": "code",
   "execution_count": 22,
   "metadata": {
    "collapsed": true
   },
   "outputs": [],
   "source": [
    "conversion_table.update(\n",
    "    {\"{} to {}\".format(to, frm): prefix_table[to] / prefix_table[frm] for frm, to in combinations(prefix_table, 2)}\n",
    ")"
   ]
  },
  {
   "cell_type": "code",
   "execution_count": 23,
   "metadata": {},
   "outputs": [
    {
     "data": {
      "text/plain": [
       "0.001"
      ]
     },
     "execution_count": 23,
     "metadata": {},
     "output_type": "execute_result"
    }
   ],
   "source": [
    "conversion_table[\"milli to unit\"]"
   ]
  },
  {
   "cell_type": "code",
   "execution_count": 3,
   "metadata": {},
   "outputs": [],
   "source": [
    "from itertools import combinations\n",
    "\n",
    "prefix_table = {\n",
    "    \"nano\": 1E-9,\n",
    "    \"micro\": 1E-6,\n",
    "    \"milli\": 1E-3,\n",
    "    \"unit\": 1,\n",
    "    \"kilo\": 1000,\n",
    "    \"mega\": 1E6,\n",
    "    \"giga\": 1E9\n",
    "}\n",
    "\n",
    "class LinearMapping:\n",
    "\n",
    "    conversion_table = {\n",
    "        \"{} to {}\".format(frm, to): prefix_table[frm] / prefix_table[to] for frm, to in combinations(prefix_table, 2)\n",
    "    }\n",
    "    \n",
    "    conversion_table.update(\n",
    "        {\"{} to {}\".format(to, frm): prefix_table[to] / prefix_table[frm] for frm, to in combinations(prefix_table, 2)}\n",
    "    )\n",
    "    \n",
    "    def __init__(self, conversion_factor):\n",
    "\n",
    "        if isinstance(conversion_factor, str):\n",
    "            self.conversion_factor = LinearMapping.conversion_table[conversion_factor]\n",
    "        else:\n",
    "            self.conversion_factor = conversion_factor\n",
    "\n",
    "    def __call__(self, value):\n",
    "        return value / self.conversion_factor\n",
    "\n",
    "    def inverse(self, value):\n",
    "        return value * self.conversion_factor\n",
    "\n",
    "    def __repr__(self):\n",
    "        return \"Linear map: this = original * {}\".format(self.conversion_factor)"
   ]
  },
  {
   "cell_type": "code",
   "execution_count": 26,
   "metadata": {
    "collapsed": true
   },
   "outputs": [],
   "source": [
    "mapping = LinearMapping(\"milli to unit\")"
   ]
  },
  {
   "cell_type": "code",
   "execution_count": 27,
   "metadata": {},
   "outputs": [
    {
     "data": {
      "text/plain": [
       "0.001"
      ]
     },
     "execution_count": 27,
     "metadata": {},
     "output_type": "execute_result"
    }
   ],
   "source": [
    "mapping.conversion_factor"
   ]
  },
  {
   "cell_type": "code",
   "execution_count": 28,
   "metadata": {
    "collapsed": true
   },
   "outputs": [],
   "source": [
    "mapping = LinearMapping(\"unit to milli\")"
   ]
  },
  {
   "cell_type": "code",
   "execution_count": 29,
   "metadata": {},
   "outputs": [
    {
     "data": {
      "text/plain": [
       "1000.0"
      ]
     },
     "execution_count": 29,
     "metadata": {},
     "output_type": "execute_result"
    }
   ],
   "source": [
    "mapping.conversion_factor"
   ]
  },
  {
   "cell_type": "code",
   "execution_count": null,
   "metadata": {
    "collapsed": true
   },
   "outputs": [],
   "source": []
  }
 ],
 "metadata": {
  "kernelspec": {
   "display_name": "Python 3",
   "language": "python",
   "name": "python3"
  },
  "language_info": {
   "codemirror_mode": {
    "name": "ipython",
    "version": 3
   },
   "file_extension": ".py",
   "mimetype": "text/x-python",
   "name": "python",
   "nbconvert_exporter": "python",
   "pygments_lexer": "ipython3",
   "version": "3.6.3"
  }
 },
 "nbformat": 4,
 "nbformat_minor": 2
}
