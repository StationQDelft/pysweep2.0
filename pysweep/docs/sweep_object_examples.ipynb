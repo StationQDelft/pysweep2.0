{
 "cells": [
  {
   "cell_type": "code",
   "execution_count": 1,
   "metadata": {},
   "outputs": [
    {
     "data": {
      "application/javascript": [
       "/*\n",
       " * Qcodes Jupyter/IPython widgets\n",
       " */\n",
       "require([\n",
       "    'nbextensions/widgets/widgets/js/widget',\n",
       "    'nbextensions/widgets/widgets/js/manager'\n",
       "], function (widget, manager) {\n",
       "\n",
       "    var UpdateView = widget.DOMWidgetView.extend({\n",
       "        render: function() {\n",
       "            window.MYWIDGET = this;\n",
       "            this._interval = 0;\n",
       "            this.update();\n",
       "        },\n",
       "        update: function() {\n",
       "            this.display(this.model.get('_message'));\n",
       "            this.setInterval();\n",
       "        },\n",
       "        display: function(message) {\n",
       "            /*\n",
       "             * display method: override this for custom display logic\n",
       "             */\n",
       "            this.el.innerHTML = message;\n",
       "        },\n",
       "        remove: function() {\n",
       "            clearInterval(this._updater);\n",
       "        },\n",
       "        setInterval: function(newInterval) {\n",
       "            var me = this;\n",
       "            if(newInterval===undefined) newInterval = me.model.get('interval');\n",
       "            if(newInterval===me._interval) return;\n",
       "\n",
       "            me._interval = newInterval;\n",
       "\n",
       "            if(me._updater) clearInterval(me._updater);\n",
       "\n",
       "            if(me._interval) {\n",
       "                me._updater = setInterval(function() {\n",
       "                    me.send({myupdate: true});\n",
       "                    if(!me.model.comm_live) {\n",
       "                        console.log('missing comm, canceling widget updates', me);\n",
       "                        clearInterval(me._updater);\n",
       "                    }\n",
       "                }, me._interval * 1000);\n",
       "            }\n",
       "        }\n",
       "    });\n",
       "    manager.WidgetManager.register_widget_view('UpdateView', UpdateView);\n",
       "\n",
       "    var HiddenUpdateView = UpdateView.extend({\n",
       "        display: function(message) {\n",
       "            this.$el.hide();\n",
       "        }\n",
       "    });\n",
       "    manager.WidgetManager.register_widget_view('HiddenUpdateView', HiddenUpdateView);\n",
       "\n",
       "    var SubprocessView = UpdateView.extend({\n",
       "        render: function() {\n",
       "            var me = this;\n",
       "            me._interval = 0;\n",
       "            me._minimize = '<i class=\"fa-minus fa\"></i>';\n",
       "            me._restore = '<i class=\"fa-plus fa\"></i>';\n",
       "\n",
       "            // max lines of output to show\n",
       "            me.maxOutputLength = 500;\n",
       "\n",
       "            // in case there is already an outputView present,\n",
       "            // like from before restarting the kernel\n",
       "            $('.qcodes-output-view').not(me.$el).remove();\n",
       "\n",
       "            me.$el\n",
       "                .addClass('qcodes-output-view')\n",
       "                .attr('qcodes-state', 'docked')\n",
       "                .html(\n",
       "                    '<div class=\"qcodes-output-header toolbar\">' +\n",
       "                        '<div class=\"qcodes-process-list\"></div>' +\n",
       "                        '<button class=\"btn qcodes-processlines\"><i class=\"fa-list fa\"></i></button>' +\n",
       "                        '<button class=\"btn qcodes-abort-loop disabled\">Abort</button>' +\n",
       "                        '<button class=\"btn qcodes-clear-output disabled qcodes-content\">Clear</button>' +\n",
       "                        '<button class=\"btn js-state qcodes-minimized\"><i class=\"fa-minus fa\"></i></button>' +\n",
       "                        '<button class=\"btn js-state qcodes-docked\"><i class=\"fa-toggle-up fa\"></i></button>' +\n",
       "                        '<button class=\"btn js-state qcodes-floated\"><i class=\"fa-arrows fa\"></i></button>' +\n",
       "                    '</div>' +\n",
       "                    '<pre class=\"qcodes-content\"></pre>'\n",
       "                );\n",
       "\n",
       "            me.clearButton = me.$el.find('.qcodes-clear-output');\n",
       "            me.minButton = me.$el.find('.qcodes-minimize');\n",
       "            me.outputArea = me.$el.find('pre');\n",
       "            me.subprocessList = me.$el.find('.qcodes-process-list');\n",
       "            me.abortButton = me.$el.find('.qcodes-abort-loop');\n",
       "            me.processLinesButton = me.$el.find('.qcodes-processlines')\n",
       "\n",
       "            me.outputLines = [];\n",
       "\n",
       "            me.clearButton.click(function() {\n",
       "                me.outputArea.html('');\n",
       "                me.clearButton.addClass('disabled');\n",
       "            });\n",
       "\n",
       "            me.abortButton.click(function() {\n",
       "                me.send({abort: true});\n",
       "            });\n",
       "\n",
       "            me.processLinesButton.click(function() {\n",
       "                // toggle multiline process list display\n",
       "                me.subprocessesMultiline = !me.subprocessesMultiline;\n",
       "                me.showSubprocesses();\n",
       "            });\n",
       "\n",
       "            me.$el.find('.js-state').click(function() {\n",
       "                var state = this.className.substr(this.className.indexOf('qcodes'))\n",
       "                        .split('-')[1].split(' ')[0];\n",
       "                me.model.set('_state', state);\n",
       "            });\n",
       "\n",
       "            $(window)\n",
       "                .off('resize.qcodes')\n",
       "                .on('resize.qcodes', function() {me.clipBounds();});\n",
       "\n",
       "            me.update();\n",
       "        },\n",
       "\n",
       "        updateState: function() {\n",
       "            var me = this,\n",
       "                oldState = me.$el.attr('qcodes-state'),\n",
       "                state = me.model.get('_state');\n",
       "\n",
       "            if(state === oldState) return;\n",
       "\n",
       "            setTimeout(function() {\n",
       "                // not sure why I can't pop it out of the widgetarea in render, but it seems that\n",
       "                // some other bit of code resets the parent after render if I do it there.\n",
       "                // To be safe, just do it on every state click.\n",
       "                me.$el.appendTo('body');\n",
       "\n",
       "                if(oldState === 'floated') {\n",
       "                    console.log('here');\n",
       "                    me.$el.draggable('destroy').css({left:'', top: ''});\n",
       "                }\n",
       "\n",
       "                me.$el.attr('qcodes-state', state);\n",
       "\n",
       "                if(state === 'floated') {\n",
       "                    me.$el\n",
       "                        .draggable({stop: function() { me.clipBounds(); }})\n",
       "                        .css({\n",
       "                            left: window.innerWidth - me.$el.width() - 15,\n",
       "                            top: window.innerHeight - me.$el.height() - 10\n",
       "                        });\n",
       "                }\n",
       "\n",
       "                // any previous highlighting is now moot\n",
       "                me.$el.removeClass('qcodes-highlight');\n",
       "            }, 0);\n",
       "\n",
       "        },\n",
       "\n",
       "        clipBounds: function() {\n",
       "            var me = this;\n",
       "            if(me.$el.attr('qcodes-state') === 'floated') {\n",
       "                var bounds = me.$el[0].getBoundingClientRect(),\n",
       "                    minVis = 40,\n",
       "                    maxLeft = window.innerWidth - minVis,\n",
       "                    minLeft = minVis - bounds.width,\n",
       "                    maxTop = window.innerHeight - minVis;\n",
       "\n",
       "                if(bounds.left > maxLeft) me.$el.css('left', maxLeft);\n",
       "                else if(bounds.left < minLeft) me.$el.css('left', minLeft);\n",
       "\n",
       "                if(bounds.top > maxTop) me.$el.css('top', maxTop);\n",
       "                else if(bounds.top < 0) me.$el.css('top', 0);\n",
       "            }\n",
       "        },\n",
       "\n",
       "        display: function(message) {\n",
       "            var me = this;\n",
       "            if(message) {\n",
       "                var initialScroll = me.outputArea.scrollTop();\n",
       "                me.outputArea.scrollTop(me.outputArea.prop('scrollHeight'));\n",
       "                var scrollBottom = me.outputArea.scrollTop();\n",
       "\n",
       "                if(me.$el.attr('qcodes-state') === 'minimized') {\n",
       "                    // if we add text and the box is minimized, highlight the\n",
       "                    // title bar to alert the user that there are new messages.\n",
       "                    // remove then add the class, so we get the animation again\n",
       "                    // if it's already highlighted\n",
       "                    me.$el.removeClass('qcodes-highlight');\n",
       "                    setTimeout(function(){\n",
       "                        me.$el.addClass('qcodes-highlight');\n",
       "                    }, 0);\n",
       "                }\n",
       "\n",
       "                var newLines = message.split('\\n'),\n",
       "                    out = me.outputLines,\n",
       "                    outLen = out.length;\n",
       "                if(outLen) out[outLen - 1] += newLines[0];\n",
       "                else out.push(newLines[0]);\n",
       "\n",
       "                for(var i = 1; i < newLines.length; i++) {\n",
       "                    out.push(newLines[i]);\n",
       "                }\n",
       "\n",
       "                if(out.length > me.maxOutputLength) {\n",
       "                    out.splice(0, out.length - me.maxOutputLength + 1,\n",
       "                        '<<< Output clipped >>>');\n",
       "                }\n",
       "\n",
       "                me.outputArea.text(out.join('\\n'));\n",
       "                me.clearButton.removeClass('disabled');\n",
       "\n",
       "                // if we were scrolled to the bottom initially, make sure\n",
       "                // we stay that way.\n",
       "                me.outputArea.scrollTop(initialScroll === scrollBottom ?\n",
       "                    me.outputArea.prop('scrollHeight') : initialScroll);\n",
       "            }\n",
       "\n",
       "            me.showSubprocesses();\n",
       "            me.updateState();\n",
       "        },\n",
       "\n",
       "        showSubprocesses: function() {\n",
       "            var me = this,\n",
       "                replacer = me.subprocessesMultiline ? '<br>' : ', ',\n",
       "                processes = (me.model.get('_processes') || '')\n",
       "                    .replace(/\\n/g, '&gt;' + replacer + '&lt;');\n",
       "\n",
       "            if(processes) processes = '&lt;' + processes + '&gt;';\n",
       "            else processes = 'No subprocesses';\n",
       "\n",
       "            me.abortButton.toggleClass('disabled', processes.indexOf('Measurement')===-1);\n",
       "\n",
       "            me.subprocessList.html(processes);\n",
       "        }\n",
       "    });\n",
       "    manager.WidgetManager.register_widget_view('SubprocessView', SubprocessView);\n",
       "});\n"
      ],
      "text/plain": [
       "<IPython.core.display.Javascript object>"
      ]
     },
     "metadata": {},
     "output_type": "display_data"
    },
    {
     "data": {
      "text/html": [
       "<style>.qcodes-output-view:not(.ui-draggable) {\n",
       "    bottom: 0;\n",
       "    right: 5px;\n",
       "}\n",
       ".qcodes-output-view {\n",
       "    position: fixed;\n",
       "    z-index: 999;\n",
       "    background-color: #fff;\n",
       "    box-shadow: 0 0 12px 1px rgba(87, 87, 87, 0.2);\n",
       "}\n",
       "\n",
       ".qcodes-output-header {\n",
       "    float: right;\n",
       "}\n",
       "\n",
       ".qcodes-highlight {\n",
       "    animation: pulse 1s linear;\n",
       "    background-color: #fa4;\n",
       "}\n",
       "\n",
       "@keyframes pulse {\n",
       "    0% {\n",
       "        background-color: #f00;\n",
       "    }\n",
       "    100% {\n",
       "        background-color: #fa4;\n",
       "    }\n",
       "}\n",
       "\n",
       ".qcodes-process-list {\n",
       "    float: left;\n",
       "    max-width: 780px;\n",
       "    margin: 3px 5px 3px 10px;\n",
       "    overflow: hidden;\n",
       "    white-space: nowrap;\n",
       "    text-overflow: ellipsis;\n",
       "}\n",
       "\n",
       ".qcodes-output-view[qcodes-state=minimized] .qcodes-process-list {\n",
       "    max-width: 300px;\n",
       "}\n",
       "\n",
       ".qcodes-output-view span {\n",
       "    padding: 2px 6px 3px 12px;\n",
       "}\n",
       "\n",
       ".qcodes-output-view .btn {\n",
       "    margin: 0 3px 0 0;\n",
       "}\n",
       "\n",
       ".qcodes-output-view[qcodes-state=docked] .qcodes-docked,\n",
       ".qcodes-output-view[qcodes-state=floated] .qcodes-floated,\n",
       ".qcodes-output-view[qcodes-state=minimized] .qcodes-minimized,\n",
       ".qcodes-output-view[qcodes-state=minimized] .qcodes-content {\n",
       "    display: none;\n",
       "}\n",
       "\n",
       ".qcodes-output-view .disabled {\n",
       "    opacity: 0.4;\n",
       "}\n",
       "\n",
       ".qcodes-abort-loop {\n",
       "    background-color: #844;\n",
       "    color: #fff;\n",
       "}\n",
       "\n",
       ".qcodes-output-view pre {\n",
       "    clear: both;\n",
       "    margin: 0;\n",
       "    border: 0;\n",
       "    border-top: 1px solid #ccc;\n",
       "    background-color: #ffe;\n",
       "    min-height: 50px;\n",
       "    max-height: 400px;\n",
       "    min-width: 400px;\n",
       "    max-width: 1000px;\n",
       "}</style>"
      ],
      "text/plain": [
       "<IPython.core.display.HTML object>"
      ]
     },
     "metadata": {},
     "output_type": "display_data"
    }
   ],
   "source": [
    "import sys\n",
    "\n",
    "sys.path.append(r\"C:\\\\Users\\\\a-sochat\\\\development\\\\pysweep2.0\")\n",
    "\n",
    "import time \n",
    "\n",
    "import numpy as np\n",
    "import itertools\n",
    "\n",
    "from pysweep import sweep_object, sweep_zip, sweep_product, BaseSweepObject\n",
    "import pysweep.utils \n",
    "from pysweep.tests.testing_utilities import ParameterFactory\n",
    "\n",
    "import qcodes"
   ]
  },
  {
   "cell_type": "code",
   "execution_count": 2,
   "metadata": {
    "collapsed": true
   },
   "outputs": [],
   "source": [
    "param_factory = ParameterFactory(sys.stdout)  # This simply gives us QCoDeS parameters which, when set, will write \n",
    "# logs to stdout "
   ]
  },
  {
   "cell_type": "code",
   "execution_count": 3,
   "metadata": {},
   "outputs": [
    {
     "name": "stdout",
     "output_type": "stream",
     "text": [
      "True\n",
      "setting parameter 0 to 10"
     ]
    }
   ],
   "source": [
    "# For example\n",
    "p = param_factory[0]\n",
    "\n",
    "print(isinstance(p, qcodes.StandardParameter))\n",
    "\n",
    "p.set(10)"
   ]
  },
  {
   "cell_type": "code",
   "execution_count": 4,
   "metadata": {},
   "outputs": [
    {
     "name": "stdout",
     "output_type": "stream",
     "text": [
      "setting parameter 0 to 0\n",
      "logline = {'parameter 0': {'unit': 'V', 'value': 0}}\n",
      "setting parameter 0 to 1\n",
      "logline = {'parameter 0': {'unit': 'V', 'value': 1}}\n",
      "setting parameter 0 to 2\n",
      "logline = {'parameter 0': {'unit': 'V', 'value': 2}}\n",
      "setting parameter 0 to 3\n",
      "logline = {'parameter 0': {'unit': 'V', 'value': 3}}\n"
     ]
    }
   ],
   "source": [
    "# Lets test sweeping over a parameter\n",
    "sweep_values = [0, 1, 2, 3]\n",
    "\n",
    "for log_line in sweep_object(p, sweep_values):\n",
    "    print(\"\\nlogline = {}\".format(log_line))"
   ]
  },
  {
   "cell_type": "markdown",
   "metadata": {},
   "source": [
    "We see that: \n",
    "* We can loop over a sweep object (that is, \\_\\_iter\\_\\_ and \\_\\_next\\_\\_ are implemented) \n",
    "* At every iteration the independent experiment variables are set\n",
    "* At every iteration a dictionary is returned, which are meant to be included in the experiment output file "
   ]
  },
  {
   "cell_type": "code",
   "execution_count": 5,
   "metadata": {},
   "outputs": [
    {
     "name": "stdout",
     "output_type": "stream",
     "text": [
      "logline = {'time': {'unit': 's', 'value': '0.0'}}\n",
      "logline = {'time': {'unit': 's', 'value': '0.1'}}\n",
      "logline = {'time': {'unit': 's', 'value': '0.2'}}\n",
      "logline = {'time': {'unit': 's', 'value': '0.3'}}\n",
      "logline = {'time': {'unit': 's', 'value': '0.4'}}\n",
      "logline = {'time': {'unit': 's', 'value': '0.5'}}\n",
      "logline = {'time': {'unit': 's', 'value': '0.6'}}\n",
      "logline = {'time': {'unit': 's', 'value': '0.71'}}\n",
      "logline = {'time': {'unit': 's', 'value': '0.81'}}\n",
      "logline = {'time': {'unit': 's', 'value': '0.91'}}\n"
     ]
    }
   ],
   "source": [
    "# We can also sweep over a function, instead of a QCoDeS parameter. This can be handy to make a time series measurement\n",
    "\n",
    "def timer():\n",
    "    t0 = time.time()\n",
    "    def inner(station, namespace, t):  # Everytime this function is called, log the current time  \n",
    "        return {\"time\": {\"unit\": \"s\", \"value\": \"{:.2}\".format(time.time() - t0)}}\n",
    "    return inner\n",
    "\n",
    "for log_line in sweep_object(timer(), range(10)).after_each(pysweep.utils.sleep(.1)):\n",
    "    print(\"logline = {}\".format(log_line))"
   ]
  },
  {
   "cell_type": "markdown",
   "metadata": {},
   "source": [
    "The \"after each\" command tells the sweep object to execute some command after calling the timer function (or setting some \n",
    "parameter)"
   ]
  },
  {
   "cell_type": "code",
   "execution_count": 6,
   "metadata": {},
   "outputs": [
    {
     "name": "stdout",
     "output_type": "stream",
     "text": [
      "setting parameter 0 to 0\n",
      "logline = {'time': {'unit': 's', 'value': '0.0'}, 'parameter 0': {'unit': 'V', 'value': 0}}\n",
      "setting parameter 0 to 1\n",
      "logline = {'time': {'unit': 's', 'value': '0.1'}, 'parameter 0': {'unit': 'V', 'value': 1}}\n",
      "setting parameter 0 to 2\n",
      "logline = {'time': {'unit': 's', 'value': '0.2'}, 'parameter 0': {'unit': 'V', 'value': 2}}\n",
      "setting parameter 0 to 3\n",
      "logline = {'time': {'unit': 's', 'value': '0.3'}, 'parameter 0': {'unit': 'V', 'value': 3}}\n"
     ]
    }
   ],
   "source": [
    "# Now suppose we want to set parameters and log the time at the same time\n",
    "\n",
    "for log_line in sweep_zip(\n",
    "    sweep_object(timer(), itertools.repeat(1)).after_each(pysweep.utils.sleep(.1)), \n",
    "    sweep_object(p, sweep_values)\n",
    "):\n",
    "    print(\"\\nlogline = {}\".format(log_line))"
   ]
  },
  {
   "cell_type": "markdown",
   "metadata": {},
   "source": [
    "The \"sweep_zip\" command lets us perform two sweeps simultaniously "
   ]
  },
  {
   "cell_type": "code",
   "execution_count": 7,
   "metadata": {
    "collapsed": true
   },
   "outputs": [],
   "source": [
    "# We can accomplish the same with a sligtly cleaner syntax. First we define some aliases: \n",
    "\n",
    "def log_time():\n",
    "    tb = time.time()\n",
    "\n",
    "    def inner(station, namespace):\n",
    "        return {\"time\": {\"unit\": \"s\", \"value\": \"{:.2}\".format(time.time() - tb)}}\n",
    "    return inner\n",
    "\n",
    "BaseSweepObject.add_alias(\"log_time\", lambda so: so.after_each(log_time()))\n",
    "BaseSweepObject.add_alias(\"sleep\", lambda so, t: so.after_each(pysweep.utils.sleep(t)))"
   ]
  },
  {
   "cell_type": "code",
   "execution_count": 8,
   "metadata": {},
   "outputs": [
    {
     "name": "stdout",
     "output_type": "stream",
     "text": [
      "setting parameter 0 to 0\n",
      "logline = {'parameter 0': {'unit': 'V', 'value': 0}, 'time': {'unit': 's', 'value': '0.1'}}\n",
      "setting parameter 0 to 1\n",
      "logline = {'parameter 0': {'unit': 'V', 'value': 1}, 'time': {'unit': 's', 'value': '0.2'}}\n",
      "setting parameter 0 to 2\n",
      "logline = {'parameter 0': {'unit': 'V', 'value': 2}, 'time': {'unit': 's', 'value': '0.3'}}\n",
      "setting parameter 0 to 3\n",
      "logline = {'parameter 0': {'unit': 'V', 'value': 3}, 'time': {'unit': 's', 'value': '0.4'}}\n"
     ]
    }
   ],
   "source": [
    "# Now the magic happens\n",
    "\n",
    "for log_line in sweep_object(p, sweep_values).sleep(.1).log_time(): \n",
    "    print(\"\\nlogline = {}\".format(log_line))"
   ]
  },
  {
   "cell_type": "markdown",
   "metadata": {},
   "source": [
    "We see that we get the same result as before "
   ]
  },
  {
   "cell_type": "markdown",
   "metadata": {},
   "source": [
    "Now lets suppose we want to set a parameter to a certain value and then take a time series experiment. Lets create a \n",
    "fictitious instrument representing a noisy ohmic resistor"
   ]
  },
  {
   "cell_type": "code",
   "execution_count": 9,
   "metadata": {},
   "outputs": [
    {
     "name": "stdout",
     "output_type": "stream",
     "text": [
      "Connected to: noisy resistor\n"
     ]
    }
   ],
   "source": [
    "class NoisyResistor(qcodes.Instrument): \n",
    "    def __init__(self, name, resistance):\n",
    "        super().__init__(name)\n",
    "    \n",
    "        self._resistance = resistance\n",
    "        self._bias = 0\n",
    "    \n",
    "        self.add_parameter(\n",
    "            name=\"bias\", \n",
    "            set_cmd=self._set_bias,\n",
    "            units=\"V\"\n",
    "        )\n",
    "        \n",
    "        self.add_parameter(\n",
    "            name=\"current\", \n",
    "            get_cmd=self._get_current, \n",
    "            units=\"A\"\n",
    "        )\n",
    "        \n",
    "        self.connect_message()\n",
    "        \n",
    "    def _set_bias(self, bias): \n",
    "        self._bias = bias\n",
    "    \n",
    "    def _get_current(self): \n",
    "        return self._bias / self._resistance + np.random.normal(0.0, 0.1)\n",
    "    \n",
    "    def connect_message(self, idn_param='IDN', begin_time=None): \n",
    "        \n",
    "        con_msg = ('Connected to: noisy resistor')\n",
    "        print(con_msg)\n",
    "        return {}\n",
    "\n",
    "r = NoisyResistor(\"R\", 10)"
   ]
  },
  {
   "cell_type": "code",
   "execution_count": 10,
   "metadata": {},
   "outputs": [
    {
     "name": "stderr",
     "output_type": "stream",
     "text": [
      "WARNING:root:Error getting or interpreting *IDN?: ''\n"
     ]
    }
   ],
   "source": [
    "station = qcodes.Station(r)"
   ]
  },
  {
   "cell_type": "code",
   "execution_count": 11,
   "metadata": {},
   "outputs": [
    {
     "name": "stdout",
     "output_type": "stream",
     "text": [
      "logline = {'current': {'unit': 'A', 'value': '-0.0754'}, 'time': {'unit': 's', 'value': '0.1'}}\n",
      "logline = {'current': {'unit': 'A', 'value': '0.00231'}, 'time': {'unit': 's', 'value': '0.2'}}\n",
      "logline = {'current': {'unit': 'A', 'value': '0.0618'}, 'time': {'unit': 's', 'value': '0.3'}}\n",
      "logline = {'current': {'unit': 'A', 'value': '-0.0806'}, 'time': {'unit': 's', 'value': '0.4'}}\n",
      "logline = {'current': {'unit': 'A', 'value': '-0.00398'}, 'time': {'unit': 's', 'value': '0.5'}}\n",
      "logline = {'current': {'unit': 'A', 'value': '0.25'}, 'time': {'unit': 's', 'value': '0.61'}}\n",
      "logline = {'current': {'unit': 'A', 'value': '-0.0739'}, 'time': {'unit': 's', 'value': '0.71'}}\n",
      "logline = {'current': {'unit': 'A', 'value': '0.0418'}, 'time': {'unit': 's', 'value': '0.81'}}\n",
      "logline = {'current': {'unit': 'A', 'value': '-0.00876'}, 'time': {'unit': 's', 'value': '0.91'}}\n",
      "logline = {'current': {'unit': 'A', 'value': '-0.149'}, 'time': {'unit': 's', 'value': '1.0'}}\n"
     ]
    }
   ],
   "source": [
    "def measure_current(station, namespace, _): \n",
    "    return {station.R.current.label: {\"unit\": station.R.current.units, \"value\": \"{:.3}\".format(station.R.current())}}\n",
    "    \n",
    "for log_line in sweep_object(measure_current, 10 * [1]).set_station(station).sleep(.1).log_time():\n",
    "    print(\"logline = {}\".format(log_line))"
   ]
  },
  {
   "cell_type": "code",
   "execution_count": 12,
   "metadata": {},
   "outputs": [
    {
     "name": "stdout",
     "output_type": "stream",
     "text": [
      "logline = {'current': {'unit': 'A', 'value': '0.00781'}, 'time': {'unit': 's', 'value': '0.1'}, 'bias': {'unit': 'V', 'value': 0}}\n",
      "logline = {'current': {'unit': 'A', 'value': '-0.0942'}, 'time': {'unit': 's', 'value': '0.2'}, 'bias': {'unit': 'V', 'value': 0}}\n",
      "logline = {'current': {'unit': 'A', 'value': '0.0458'}, 'time': {'unit': 's', 'value': '0.3'}, 'bias': {'unit': 'V', 'value': 0}}\n",
      "logline = {'current': {'unit': 'A', 'value': '-0.000905'}, 'time': {'unit': 's', 'value': '0.4'}, 'bias': {'unit': 'V', 'value': 1}}\n",
      "logline = {'current': {'unit': 'A', 'value': '0.117'}, 'time': {'unit': 's', 'value': '0.5'}, 'bias': {'unit': 'V', 'value': 1}}\n",
      "logline = {'current': {'unit': 'A', 'value': '0.145'}, 'time': {'unit': 's', 'value': '0.6'}, 'bias': {'unit': 'V', 'value': 1}}\n",
      "logline = {'current': {'unit': 'A', 'value': '0.177'}, 'time': {'unit': 's', 'value': '0.71'}, 'bias': {'unit': 'V', 'value': 2}}\n",
      "logline = {'current': {'unit': 'A', 'value': '0.388'}, 'time': {'unit': 's', 'value': '0.81'}, 'bias': {'unit': 'V', 'value': 2}}\n",
      "logline = {'current': {'unit': 'A', 'value': '0.191'}, 'time': {'unit': 's', 'value': '0.91'}, 'bias': {'unit': 'V', 'value': 2}}\n"
     ]
    }
   ],
   "source": [
    "# Now lets vary the bias voltage and taking a time trace at each set point \n",
    "\n",
    "for log_line in sweep_product(\n",
    "    sweep_object(measure_current, 3 * [1]).set_station(station).sleep(.1).log_time(), \n",
    "    sweep_object(r.bias, [0, 1, 2])\n",
    "):\n",
    "    print(\"logline = {}\".format(log_line))"
   ]
  },
  {
   "cell_type": "code",
   "execution_count": 13,
   "metadata": {},
   "outputs": [
    {
     "name": "stdout",
     "output_type": "stream",
     "text": [
      "logline = {'current': {'unit': 'A', 'value': '-0.0551'}, 'time': {'unit': 's', 'value': '1.0'}, 'bias': {'unit': 'V', 'value': 0}}\n",
      "logline = {'current': {'unit': 'A', 'value': '0.209'}, 'time': {'unit': 's', 'value': '2.0'}, 'bias': {'unit': 'V', 'value': 0}}\n",
      "logline = {'current': {'unit': 'A', 'value': '-0.121'}, 'time': {'unit': 's', 'value': '3.0'}, 'bias': {'unit': 'V', 'value': 0}}\n",
      "logline = {'current': {'unit': 'A', 'value': '0.0222'}, 'time': {'unit': 's', 'value': '4.0'}, 'bias': {'unit': 'V', 'value': 1}}\n",
      "logline = {'current': {'unit': 'A', 'value': '0.0909'}, 'time': {'unit': 's', 'value': '5.0'}, 'bias': {'unit': 'V', 'value': 1}}\n",
      "logline = {'current': {'unit': 'A', 'value': '-0.0142'}, 'time': {'unit': 's', 'value': '6.0'}, 'bias': {'unit': 'V', 'value': 1}}\n",
      "logline = {'current': {'unit': 'A', 'value': '0.292'}, 'time': {'unit': 's', 'value': '7.0'}, 'bias': {'unit': 'V', 'value': 2}}\n",
      "logline = {'current': {'unit': 'A', 'value': '0.0313'}, 'time': {'unit': 's', 'value': '8.0'}, 'bias': {'unit': 'V', 'value': 2}}\n",
      "logline = {'current': {'unit': 'A', 'value': '0.133'}, 'time': {'unit': 's', 'value': '9.0'}, 'bias': {'unit': 'V', 'value': 2}}\n"
     ]
    }
   ],
   "source": [
    "for log_line in sweep_product(\n",
    "    sweep_object(measure_current, 3 * [1]).sleep(1).log_time(), \n",
    "    sweep_object(r.bias, [0, 1, 2])\n",
    ").set_station(station):\n",
    "    print(\"logline = {}\".format(log_line))"
   ]
  },
  {
   "cell_type": "code",
   "execution_count": 14,
   "metadata": {},
   "outputs": [
    {
     "ename": "ModuleNotFoundError",
     "evalue": "No module named 'jsonmerge'",
     "output_type": "error",
     "traceback": [
      "\u001b[1;31m---------------------------------------------------------------------------\u001b[0m",
      "\u001b[1;31mModuleNotFoundError\u001b[0m                       Traceback (most recent call last)",
      "\u001b[1;32m<ipython-input-14-44c76e6f7391>\u001b[0m in \u001b[0;36m<module>\u001b[1;34m()\u001b[0m\n\u001b[1;32m----> 1\u001b[1;33m \u001b[1;32mimport\u001b[0m \u001b[0mjsonmerge\u001b[0m\u001b[1;33m\u001b[0m\u001b[0m\n\u001b[0m",
      "\u001b[1;31mModuleNotFoundError\u001b[0m: No module named 'jsonmerge'"
     ]
    }
   ],
   "source": []
  },
  {
   "cell_type": "code",
   "execution_count": null,
   "metadata": {
    "collapsed": true
   },
   "outputs": [],
   "source": []
  }
 ],
 "metadata": {
  "kernelspec": {
   "display_name": "Python 3",
   "language": "python",
   "name": "python3"
  },
  "language_info": {
   "codemirror_mode": {
    "name": "ipython",
    "version": 3
   },
   "file_extension": ".py",
   "mimetype": "text/x-python",
   "name": "python",
   "nbconvert_exporter": "python",
   "pygments_lexer": "ipython3",
   "version": "3.6.3"
  }
 },
 "nbformat": 4,
 "nbformat_minor": 1
}
