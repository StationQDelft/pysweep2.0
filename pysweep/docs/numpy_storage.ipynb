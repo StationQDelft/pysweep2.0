{
 "cells": [
  {
   "cell_type": "code",
   "execution_count": 1,
   "metadata": {},
   "outputs": [],
   "source": [
    "import sys\n",
    "sys.path.append(r\"C:\\\\Users\\\\a-sochat\\\\development\\\\pysweep2.0\")\n",
    "\n",
    "import numpy as np\n",
    "import pandas as pd\n",
    "\n",
    "import pysweep\n",
    "from pysweep import sweep, Measurement\n",
    "\n",
    "import qcodes "
   ]
  },
  {
   "cell_type": "code",
   "execution_count": 2,
   "metadata": {},
   "outputs": [
    {
     "name": "stdout",
     "output_type": "stream",
     "text": [
      "Connected to: noisy resistor\n"
     ]
    }
   ],
   "source": [
    "class NoisyResistor(qcodes.Instrument): \n",
    "    def __init__(self, name, resistance):\n",
    "        super().__init__(name)\n",
    "    \n",
    "        self._resistance = resistance\n",
    "        self._bias = 0\n",
    "    \n",
    "        self.add_parameter(\n",
    "            name=\"bias\", \n",
    "            set_cmd=self._set_bias,\n",
    "            unit=\"V\"\n",
    "        )\n",
    "        \n",
    "        self.add_parameter(\n",
    "            name=\"current\", \n",
    "            get_cmd=self._get_current, \n",
    "            unit=\"A\"\n",
    "        )\n",
    "        \n",
    "        self.connect_message()\n",
    "        \n",
    "    def _set_bias(self, bias): \n",
    "        self._bias = bias\n",
    "    \n",
    "    def _get_current(self): \n",
    "        return self._bias / self._resistance + np.random.normal(0.0, 0.1)\n",
    "    \n",
    "    def connect_message(self, idn_param='IDN', begin_time=None): \n",
    "        \n",
    "        con_msg = ('Connected to: noisy resistor')\n",
    "        print(con_msg)\n",
    "        return {}\n",
    "\n",
    "r = NoisyResistor(\"R\", 10)"
   ]
  },
  {
   "cell_type": "code",
   "execution_count": 3,
   "metadata": {},
   "outputs": [],
   "source": [
    "station = qcodes.Station(r)"
   ]
  },
  {
   "cell_type": "code",
   "execution_count": 4,
   "metadata": {},
   "outputs": [],
   "source": [
    "Measurement.use_storage(\"pandas\")\n",
    "Measurement.set_station(station)"
   ]
  },
  {
   "cell_type": "code",
   "execution_count": 5,
   "metadata": {},
   "outputs": [],
   "source": [
    "setup = lambda s, n: {}\n",
    "cleanup = lambda s, n: {}\n",
    "run = lambda s, n, v: {\"run\": {\"unit\": \"#\", \"value\": v, \"independent_parameter\": True}}"
   ]
  },
  {
   "cell_type": "code",
   "execution_count": 6,
   "metadata": {},
   "outputs": [],
   "source": [
    "run_n_times = lambda count: sweep(run, np.arange(count))"
   ]
  },
  {
   "cell_type": "code",
   "execution_count": 7,
   "metadata": {},
   "outputs": [],
   "source": [
    "measurement = Measurement(\n",
    "    setup, \n",
    "    cleanup, \n",
    "    run_n_times(100)(\n",
    "        sweep(r.bias, np.linspace(0, 10, 5))(\n",
    "            r.current\n",
    "        )\n",
    "    )\n",
    ")"
   ]
  },
  {
   "cell_type": "code",
   "execution_count": 8,
   "metadata": {},
   "outputs": [],
   "source": [
    "out = measurement.run()"
   ]
  },
  {
   "cell_type": "code",
   "execution_count": 10,
   "metadata": {},
   "outputs": [],
   "source": [
    "df = out[\"R_current\"]"
   ]
  },
  {
   "cell_type": "code",
   "execution_count": 11,
   "metadata": {},
   "outputs": [
    {
     "data": {
      "text/html": [
       "<div>\n",
       "<style scoped>\n",
       "    .dataframe tbody tr th:only-of-type {\n",
       "        vertical-align: middle;\n",
       "    }\n",
       "\n",
       "    .dataframe tbody tr th {\n",
       "        vertical-align: top;\n",
       "    }\n",
       "\n",
       "    .dataframe thead th {\n",
       "        text-align: right;\n",
       "    }\n",
       "</style>\n",
       "<table border=\"1\" class=\"dataframe\">\n",
       "  <thead>\n",
       "    <tr style=\"text-align: right;\">\n",
       "      <th></th>\n",
       "      <th>run [#]</th>\n",
       "      <th>R_current [A]</th>\n",
       "    </tr>\n",
       "    <tr>\n",
       "      <th>R_bias [V]</th>\n",
       "      <th></th>\n",
       "      <th></th>\n",
       "    </tr>\n",
       "  </thead>\n",
       "  <tbody>\n",
       "    <tr>\n",
       "      <th>0.0</th>\n",
       "      <td>49.5</td>\n",
       "      <td>-0.006838</td>\n",
       "    </tr>\n",
       "    <tr>\n",
       "      <th>2.5</th>\n",
       "      <td>49.5</td>\n",
       "      <td>0.246173</td>\n",
       "    </tr>\n",
       "    <tr>\n",
       "      <th>5.0</th>\n",
       "      <td>49.5</td>\n",
       "      <td>0.501639</td>\n",
       "    </tr>\n",
       "    <tr>\n",
       "      <th>7.5</th>\n",
       "      <td>49.5</td>\n",
       "      <td>0.759037</td>\n",
       "    </tr>\n",
       "    <tr>\n",
       "      <th>10.0</th>\n",
       "      <td>49.5</td>\n",
       "      <td>0.987799</td>\n",
       "    </tr>\n",
       "  </tbody>\n",
       "</table>\n",
       "</div>"
      ],
      "text/plain": [
       "            run [#]  R_current [A]\n",
       "R_bias [V]                        \n",
       "0.0            49.5      -0.006838\n",
       "2.5            49.5       0.246173\n",
       "5.0            49.5       0.501639\n",
       "7.5            49.5       0.759037\n",
       "10.0           49.5       0.987799"
      ]
     },
     "execution_count": 11,
     "metadata": {},
     "output_type": "execute_result"
    }
   ],
   "source": [
    "df.groupby(\"R_bias [V]\").mean()"
   ]
  },
  {
   "cell_type": "code",
   "execution_count": null,
   "metadata": {},
   "outputs": [],
   "source": [
    "\n"
   ]
  }
 ],
 "metadata": {
  "kernelspec": {
   "display_name": "Python 3",
   "language": "python",
   "name": "python3"
  },
  "language_info": {
   "codemirror_mode": {
    "name": "ipython",
    "version": 3
   },
   "file_extension": ".py",
   "mimetype": "text/x-python",
   "name": "python",
   "nbconvert_exporter": "python",
   "pygments_lexer": "ipython3",
   "version": "3.6.3"
  }
 },
 "nbformat": 4,
 "nbformat_minor": 2
}
