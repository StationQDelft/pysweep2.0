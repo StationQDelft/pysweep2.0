{
 "cells": [
  {
   "cell_type": "code",
   "execution_count": 1,
   "metadata": {},
   "outputs": [],
   "source": [
    "import sys\n",
    "sys.path.append(r\"C:\\\\Users\\\\a-sochat\\\\development\\\\pysweep2.0\")\n",
    "\n",
    "import numpy as np\n",
    "import pandas as pd\n",
    "\n",
    "import pysweep\n",
    "from pysweep import sweep, Measurement\n",
    "\n",
    "import qcodes "
   ]
  },
  {
   "cell_type": "code",
   "execution_count": 2,
   "metadata": {},
   "outputs": [
    {
     "name": "stdout",
     "output_type": "stream",
     "text": [
      "Connected to: noisy resistor\n"
     ]
    }
   ],
   "source": [
    "class NoisyResistor(qcodes.Instrument): \n",
    "    def __init__(self, name, resistance):\n",
    "        super().__init__(name)\n",
    "    \n",
    "        self._resistance = resistance\n",
    "        self._bias = 0\n",
    "    \n",
    "        self.add_parameter(\n",
    "            name=\"bias\", \n",
    "            set_cmd=self._set_bias,\n",
    "            unit=\"V\"\n",
    "        )\n",
    "        \n",
    "        self.add_parameter(\n",
    "            name=\"current\", \n",
    "            get_cmd=self._get_current, \n",
    "            unit=\"A\"\n",
    "        )\n",
    "        \n",
    "        self.connect_message()\n",
    "        \n",
    "    def _set_bias(self, bias): \n",
    "        self._bias = bias\n",
    "    \n",
    "    def _get_current(self): \n",
    "        return self._bias / self._resistance + np.random.normal(0.0, 0.1)\n",
    "    \n",
    "    def connect_message(self, idn_param='IDN', begin_time=None): \n",
    "        \n",
    "        con_msg = ('Connected to: noisy resistor')\n",
    "        print(con_msg)\n",
    "        return {}\n",
    "\n",
    "r = NoisyResistor(\"R\", 10)"
   ]
  },
  {
   "cell_type": "code",
   "execution_count": 3,
   "metadata": {},
   "outputs": [],
   "source": [
    "station = qcodes.Station(r)"
   ]
  },
  {
   "cell_type": "code",
   "execution_count": 4,
   "metadata": {},
   "outputs": [],
   "source": [
    "Measurement.use_storage(\"spyview\")\n",
    "Measurement.set_station(station)"
   ]
  },
  {
   "cell_type": "code",
   "execution_count": 5,
   "metadata": {},
   "outputs": [],
   "source": [
    "setup = lambda s, n: {}\n",
    "cleanup = lambda s, n: {}\n",
    "run = lambda s, n, v: {\"run\": {\"unit\": \"#\", \"value\": v, \"independent_parameter\": True}}"
   ]
  },
  {
   "cell_type": "code",
   "execution_count": 6,
   "metadata": {},
   "outputs": [],
   "source": [
    "run_n_times = lambda count: sweep(run, np.arange(count))"
   ]
  },
  {
   "cell_type": "code",
   "execution_count": 7,
   "metadata": {},
   "outputs": [],
   "source": [
    "measurement = Measurement(\n",
    "    setup, \n",
    "    cleanup, \n",
    "    run_n_times(100)(\n",
    "        sweep(r.bias, np.linspace(0, 10, 5))(\n",
    "            r.current\n",
    "        )\n",
    "    )\n",
    ")"
   ]
  },
  {
   "cell_type": "code",
   "execution_count": 8,
   "metadata": {},
   "outputs": [],
   "source": [
    "out = measurement.run()"
   ]
  },
  {
   "cell_type": "code",
   "execution_count": 9,
   "metadata": {},
   "outputs": [],
   "source": [
    "measurement = Measurement(\n",
    "    setup, \n",
    "    cleanup, \n",
    "    sweep(r.bias, np.linspace(0, 10, 5))(\n",
    "        r.current\n",
    "    )\n",
    ")"
   ]
  },
  {
   "cell_type": "code",
   "execution_count": 10,
   "metadata": {},
   "outputs": [],
   "source": [
    "out = measurement.run()"
   ]
  },
  {
   "cell_type": "code",
   "execution_count": null,
   "metadata": {},
   "outputs": [],
   "source": []
  }
 ],
 "metadata": {
  "kernelspec": {
   "display_name": "Python 3",
   "language": "python",
   "name": "python3"
  },
  "language_info": {
   "codemirror_mode": {
    "name": "ipython",
    "version": 3
   },
   "file_extension": ".py",
   "mimetype": "text/x-python",
   "name": "python",
   "nbconvert_exporter": "python",
   "pygments_lexer": "ipython3",
   "version": "3.6.3"
  }
 },
 "nbformat": 4,
 "nbformat_minor": 2
}
