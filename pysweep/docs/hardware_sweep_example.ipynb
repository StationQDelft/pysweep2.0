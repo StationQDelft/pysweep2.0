{
 "cells": [
  {
   "cell_type": "code",
   "execution_count": 1,
   "metadata": {
    "collapsed": true
   },
   "outputs": [],
   "source": [
    "import sys\n",
    "sys.path.append(r\"C:\\Users\\a-sochat\\development\\pysweep2.0\")\n",
    "\n",
    "from pysweep import hardware_sweep"
   ]
  },
  {
   "cell_type": "code",
   "execution_count": 2,
   "metadata": {
    "collapsed": true
   },
   "outputs": [],
   "source": [
    "hardware_measurement = lambda station, namespace: {\"some_measurement\": {\"unit\": \"V\", \"value\": [0, 1, 2, 3]}}"
   ]
  },
  {
   "cell_type": "code",
   "execution_count": 3,
   "metadata": {
    "collapsed": true
   },
   "outputs": [],
   "source": [
    "so = hardware_sweep(hardware_measurement)"
   ]
  },
  {
   "cell_type": "code",
   "execution_count": 4,
   "metadata": {},
   "outputs": [
    {
     "name": "stdout",
     "output_type": "stream",
     "text": [
      "{'some_measurement': {'unit': 'V', 'value': 0}}\n",
      "{'some_measurement': {'unit': 'V', 'value': 1}}\n",
      "{'some_measurement': {'unit': 'V', 'value': 2}}\n",
      "{'some_measurement': {'unit': 'V', 'value': 3}}\n"
     ]
    }
   ],
   "source": [
    "for iteration in so:\n",
    "    print(iteration)"
   ]
  },
  {
   "cell_type": "code",
   "execution_count": 9,
   "metadata": {},
   "outputs": [],
   "source": [
    "hardware_measurement = lambda station, namespace: {\n",
    "    \"sweep_values\": {\"unit\": \"-\", \"value\": [0, 1, 2, 3], \"independent_parameter\": True},\n",
    "    \"some_measurement\": {\"unit\": \"V\", \"value\": [10, 11, 12, 13]}\n",
    "}"
   ]
  },
  {
   "cell_type": "code",
   "execution_count": 10,
   "metadata": {},
   "outputs": [
    {
     "name": "stdout",
     "output_type": "stream",
     "text": [
      "{'sweep_values': {'unit': '-', 'value': 0, 'independent_parameter': True}, 'some_measurement': {'unit': 'V', 'value': 10}}\n",
      "{'sweep_values': {'unit': '-', 'value': 1, 'independent_parameter': True}, 'some_measurement': {'unit': 'V', 'value': 11}}\n",
      "{'sweep_values': {'unit': '-', 'value': 2, 'independent_parameter': True}, 'some_measurement': {'unit': 'V', 'value': 12}}\n",
      "{'sweep_values': {'unit': '-', 'value': 3, 'independent_parameter': True}, 'some_measurement': {'unit': 'V', 'value': 13}}\n"
     ]
    }
   ],
   "source": [
    "so = hardware_sweep(hardware_measurement)\n",
    "\n",
    "for iteration in so:\n",
    "    print(iteration)"
   ]
  },
  {
   "cell_type": "code",
   "execution_count": 13,
   "metadata": {},
   "outputs": [
    {
     "name": "stdout",
     "output_type": "stream",
     "text": [
      "{'sweep_values': {'unit': '-', 'value': 0, 'independent_parameter': True}, 'some_measurement': {'unit': 'V', 'value': 10}, 'some_other': {'unit': 'K', 'value': 0.9}}\n",
      "{'sweep_values': {'unit': '-', 'value': 1, 'independent_parameter': True}, 'some_measurement': {'unit': 'V', 'value': 11}, 'some_other': {'unit': 'K', 'value': 0.9}}\n",
      "{'sweep_values': {'unit': '-', 'value': 2, 'independent_parameter': True}, 'some_measurement': {'unit': 'V', 'value': 12}, 'some_other': {'unit': 'K', 'value': 0.9}}\n",
      "{'sweep_values': {'unit': '-', 'value': 3, 'independent_parameter': True}, 'some_measurement': {'unit': 'V', 'value': 13}, 'some_other': {'unit': 'K', 'value': 0.9}}\n"
     ]
    }
   ],
   "source": [
    "hardware_measurement = lambda station, namespace: {\n",
    "    \"sweep_values\": {\"unit\": \"-\", \"value\": [0, 1, 2, 3], \"independent_parameter\": True},\n",
    "    \"some_measurement\": {\"unit\": \"V\", \"value\": [10, 11, 12, 13]}, \n",
    "    \"some_other\": {\"unit\": \"K\", \"value\": 0.9}\n",
    "}\n",
    "\n",
    "so = hardware_sweep(hardware_measurement)\n",
    "\n",
    "for iteration in so:\n",
    "    print(iteration)"
   ]
  },
  {
   "cell_type": "code",
   "execution_count": 15,
   "metadata": {},
   "outputs": [
    {
     "name": "stdout",
     "output_type": "stream",
     "text": [
      "{'some_measurement': {'unit': 'V', 'value': 0}}\n"
     ]
    }
   ],
   "source": [
    "hardware_measurement = lambda station, namespace: {\"some_measurement\": {\"unit\": \"V\", \"value\": 0}}\n",
    "\n",
    "so = hardware_sweep(hardware_measurement)\n",
    "\n",
    "for iteration in so:\n",
    "    print(iteration)"
   ]
  },
  {
   "cell_type": "markdown",
   "metadata": {},
   "source": [
    "# The following will raise a runtime error"
   ]
  },
  {
   "cell_type": "code",
   "execution_count": 14,
   "metadata": {},
   "outputs": [
    {
     "ename": "RuntimeError",
     "evalue": "The values returned by the hardware sweep should all be the same size. Values of size 1 are allowed and these values will be repeated",
     "output_type": "error",
     "traceback": [
      "\u001b[1;31m---------------------------------------------------------------------------\u001b[0m",
      "\u001b[1;31mRuntimeError\u001b[0m                              Traceback (most recent call last)",
      "\u001b[1;32m<ipython-input-14-de0d0809009b>\u001b[0m in \u001b[0;36m<module>\u001b[1;34m()\u001b[0m\n\u001b[0;32m      6\u001b[0m \u001b[0mso\u001b[0m \u001b[1;33m=\u001b[0m \u001b[0mhardware_sweep\u001b[0m\u001b[1;33m(\u001b[0m\u001b[0mhardware_measurement\u001b[0m\u001b[1;33m)\u001b[0m\u001b[1;33m\u001b[0m\u001b[0m\n\u001b[0;32m      7\u001b[0m \u001b[1;33m\u001b[0m\u001b[0m\n\u001b[1;32m----> 8\u001b[1;33m \u001b[1;32mfor\u001b[0m \u001b[0miteration\u001b[0m \u001b[1;32min\u001b[0m \u001b[0mso\u001b[0m\u001b[1;33m:\u001b[0m\u001b[1;33m\u001b[0m\u001b[0m\n\u001b[0m\u001b[0;32m      9\u001b[0m     \u001b[0mprint\u001b[0m\u001b[1;33m(\u001b[0m\u001b[0miteration\u001b[0m\u001b[1;33m)\u001b[0m\u001b[1;33m\u001b[0m\u001b[0m\n",
      "\u001b[1;32m~\\development\\pysweep2.0\\pysweep\\sweep_object.py\u001b[0m in \u001b[0;36m__next__\u001b[1;34m(self)\u001b[0m\n\u001b[0;32m     70\u001b[0m         \u001b[1;32mif\u001b[0m \u001b[0mself\u001b[0m\u001b[1;33m.\u001b[0m\u001b[0m_param_setter\u001b[0m \u001b[1;32mis\u001b[0m \u001b[1;32mNone\u001b[0m\u001b[1;33m:\u001b[0m\u001b[1;33m\u001b[0m\u001b[0m\n\u001b[0;32m     71\u001b[0m             \u001b[0mself\u001b[0m\u001b[1;33m.\u001b[0m\u001b[0m_param_setter\u001b[0m \u001b[1;33m=\u001b[0m \u001b[0mself\u001b[0m\u001b[1;33m.\u001b[0m\u001b[0m_setter_factory\u001b[0m\u001b[1;33m(\u001b[0m\u001b[1;33m)\u001b[0m\u001b[1;33m\u001b[0m\u001b[0m\n\u001b[1;32m---> 72\u001b[1;33m         \u001b[1;32mreturn\u001b[0m \u001b[0mnext\u001b[0m\u001b[1;33m(\u001b[0m\u001b[0mself\u001b[0m\u001b[1;33m.\u001b[0m\u001b[0m_param_setter\u001b[0m\u001b[1;33m)\u001b[0m\u001b[1;33m\u001b[0m\u001b[0m\n\u001b[0m\u001b[0;32m     73\u001b[0m \u001b[1;33m\u001b[0m\u001b[0m\n\u001b[0;32m     74\u001b[0m     \u001b[1;32mdef\u001b[0m \u001b[0m__call__\u001b[0m\u001b[1;33m(\u001b[0m\u001b[0mself\u001b[0m\u001b[1;33m,\u001b[0m \u001b[1;33m*\u001b[0m\u001b[0mobjects\u001b[0m\u001b[1;33m)\u001b[0m\u001b[1;33m:\u001b[0m\u001b[1;33m\u001b[0m\u001b[0m\n",
      "\u001b[1;32m~\\development\\pysweep2.0\\pysweep\\sweep_object.py\u001b[0m in \u001b[0;36m_setter_factory\u001b[1;34m(self)\u001b[0m\n\u001b[0;32m    330\u001b[0m \u001b[1;33m\u001b[0m\u001b[0m\n\u001b[0;32m    331\u001b[0m         \u001b[1;32mif\u001b[0m \u001b[0mlen\u001b[0m\u001b[1;33m(\u001b[0m\u001b[0mself\u001b[0m\u001b[1;33m.\u001b[0m\u001b[0m_value_sizes\u001b[0m\u001b[1;33m)\u001b[0m \u001b[1;33m>\u001b[0m \u001b[1;36m2\u001b[0m \u001b[1;32mor\u001b[0m \u001b[1;33m(\u001b[0m\u001b[0mlen\u001b[0m\u001b[1;33m(\u001b[0m\u001b[0mself\u001b[0m\u001b[1;33m.\u001b[0m\u001b[0m_value_sizes\u001b[0m\u001b[1;33m)\u001b[0m \u001b[1;33m==\u001b[0m \u001b[1;36m2\u001b[0m \u001b[1;32mand\u001b[0m \u001b[0mmin\u001b[0m\u001b[1;33m(\u001b[0m\u001b[0mself\u001b[0m\u001b[1;33m.\u001b[0m\u001b[0m_value_sizes\u001b[0m\u001b[1;33m)\u001b[0m \u001b[1;33m>\u001b[0m \u001b[1;36m1\u001b[0m\u001b[1;33m)\u001b[0m\u001b[1;33m:\u001b[0m\u001b[1;33m\u001b[0m\u001b[0m\n\u001b[1;32m--> 332\u001b[1;33m             raise RuntimeError(\"The values returned by the hardware sweep should all be the \"\n\u001b[0m\u001b[0;32m    333\u001b[0m                                \"same size. Values of size 1 are allowed and these values will be repeated\")\n\u001b[0;32m    334\u001b[0m \u001b[1;33m\u001b[0m\u001b[0m\n",
      "\u001b[1;31mRuntimeError\u001b[0m: The values returned by the hardware sweep should all be the same size. Values of size 1 are allowed and these values will be repeated"
     ]
    }
   ],
   "source": [
    "hardware_measurement = lambda station, namespace: {\n",
    "    \"sweep_values\": {\"unit\": \"-\", \"value\": [0, 1, 2, 3, 4], \"independent_parameter\": True},\n",
    "    \"some_measurement\": {\"unit\": \"V\", \"value\": [10, 11, 12, 13]}\n",
    "}\n",
    "\n",
    "so = hardware_sweep(hardware_measurement)\n",
    "\n",
    "for iteration in so:\n",
    "    print(iteration)"
   ]
  },
  {
   "cell_type": "code",
   "execution_count": null,
   "metadata": {
    "collapsed": true
   },
   "outputs": [],
   "source": []
  }
 ],
 "metadata": {
  "kernelspec": {
   "display_name": "Python 3",
   "language": "python",
   "name": "python3"
  },
  "language_info": {
   "codemirror_mode": {
    "name": "ipython",
    "version": 3
   },
   "file_extension": ".py",
   "mimetype": "text/x-python",
   "name": "python",
   "nbconvert_exporter": "python",
   "pygments_lexer": "ipython3",
   "version": "3.6.3"
  }
 },
 "nbformat": 4,
 "nbformat_minor": 2
}
