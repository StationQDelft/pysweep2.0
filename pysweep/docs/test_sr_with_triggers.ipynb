{
 "cells": [
  {
   "cell_type": "code",
   "execution_count": 17,
   "metadata": {},
   "outputs": [],
   "source": [
    "import numpy as np\n",
    "import matplotlib.pyplot as plt\n",
    "\n",
    "from time import sleep\n",
    "\n",
    "import qcodes\n",
    "from qcodes.instrument_drivers.stanford_research.SR865 import SR865\n",
    "from qcodes.instrument_drivers.yokogawa.GS200 import GS200\n",
    "\n",
    "import pysweep\n",
    "from pysweep import Measurement, sweep"
   ]
  },
  {
   "cell_type": "code",
   "execution_count": 2,
   "metadata": {},
   "outputs": [
    {
     "name": "stdout",
     "output_type": "stream",
     "text": [
      "Connected to: Stanford_Research_Systems SR860 (serial:003101, firmware:V1.47) in 0.11s\n"
     ]
    }
   ],
   "source": [
    "sr = SR865(\"sr\", \"GPIB0::4::INSTR\")"
   ]
  },
  {
   "cell_type": "code",
   "execution_count": 3,
   "metadata": {},
   "outputs": [
    {
     "name": "stdout",
     "output_type": "stream",
     "text": [
      "Connected to: YOKOGAWA GS210 (serial:91T926459, firmware:2.02) in 0.01s\n"
     ]
    }
   ],
   "source": [
    "yo = GS200(\"yo\", \"USB0::0x0B21::0x0039::91T926459::INSTR\")"
   ]
  },
  {
   "cell_type": "code",
   "execution_count": 4,
   "metadata": {},
   "outputs": [
    {
     "name": "stderr",
     "output_type": "stream",
     "text": [
      "C:\\Users\\Administrator\\Documents\\development\\qcodes_dev\\qcodes\\instrument\\parameter.py:532: UserWarning: set_validator is deprected use `inst.vals = MyValidator` instead\n",
      "  \"set_validator is deprected use `inst.vals = MyValidator` instead\")\n"
     ]
    }
   ],
   "source": [
    "station = qcodes.Station(sr, yo)"
   ]
  },
  {
   "cell_type": "code",
   "execution_count": 5,
   "metadata": {},
   "outputs": [],
   "source": [
    "pysweep.Measurement.set_station(station)"
   ]
  },
  {
   "cell_type": "code",
   "execution_count": 42,
   "metadata": {},
   "outputs": [],
   "source": [
    "def setup_yo(station, namespace): \n",
    "    station.yo.auto_range(True)\n",
    "    station.yo.output(\"on\")\n",
    "    station.yo.voltage(0.0)\n",
    "    return {}\n",
    "\n",
    "def setup_sr(station, namespace): \n",
    "    station.sr.buffer.capture_config(\"X\")\n",
    "    station.sr.buffer.start_capture(\"ONE\", \"SAMP\")\n",
    "    return {}\n",
    "    \n",
    "def cleanup_yo(station, namespace): \n",
    "    station.yo.output(\"off\")\n",
    "    return {}\n",
    "\n",
    "def stop_capture(station, namespace): \n",
    "    station.sr.buffer.stop_capture()\n",
    "    return {}\n",
    "\n",
    "def send_trigger(station, namespace, count): \n",
    "    station.yo.voltage(5.0)\n",
    "    sleep(0.01)\n",
    "    station.yo.voltage(0.0)\n",
    "    return {\"trigger\": {\"unit\": \"-\", \"value\": count, \"independent_parameter\": True}}"
   ]
  },
  {
   "cell_type": "code",
   "execution_count": 43,
   "metadata": {},
   "outputs": [],
   "source": [
    "def measurement_function(station, namespace):\n",
    "    \n",
    "    nsamples = 100\n",
    "    total_size_in_kb = int(np.ceil(nsamples * 4 / 1024))\n",
    "    \n",
    "    data = station.sr.visa_handle.query_binary_values(\n",
    "        \"CAPTUREGET? 0,{}\".format(total_size_in_kb),\n",
    "        datatype='f', \n",
    "        is_big_endian=False\n",
    "    )\n",
    "    \n",
    "    return {\"measurement\": {\"unit\": \"V\", \"value\":data[:nsamples]}}"
   ]
  },
  {
   "cell_type": "code",
   "execution_count": 44,
   "metadata": {},
   "outputs": [],
   "source": [
    "measurement = Measurement(\n",
    "    [setup_yo, setup_sr], \n",
    "    cleanup_yo, \n",
    "    [\n",
    "        sweep(send_trigger, range(100)),\n",
    "        stop_capture,\n",
    "        measurement_function\n",
    "    ]\n",
    ")"
   ]
  },
  {
   "cell_type": "code",
   "execution_count": 45,
   "metadata": {},
   "outputs": [],
   "source": [
    "Measurement.use_storage(\"json\")\n",
    "data = measurement.run()"
   ]
  },
  {
   "cell_type": "code",
   "execution_count": 48,
   "metadata": {},
   "outputs": [
    {
     "data": {
      "image/png": "[encoded data removed]",
      "text/plain": [
       "<matplotlib.figure.Figure at 0x18f60035438>"
      ]
     },
     "metadata": {},
     "output_type": "display_data"
    }
   ],
   "source": [
    "d = data.output(\"measurement\")[\"measurement\"][\"value\"]\n",
    "t = data.output(\"trigger\")[\"trigger\"][\"value\"]\n",
    "\n",
    "plt.plot(t, d)\n",
    "plt.show()"
   ]
  },
  {
   "cell_type": "code",
   "execution_count": 52,
   "metadata": {},
   "outputs": [],
   "source": [
    "Measurement.use_storage(\"spyview\")\n",
    "\n",
    "measurement = Measurement(\n",
    "    [setup_yo, setup_sr], \n",
    "    cleanup_yo, \n",
    "    [\n",
    "        sweep(send_trigger, range(100)),\n",
    "        stop_capture,\n",
    "        measurement_function\n",
    "    ]\n",
    ")\n",
    "\n",
    "data = measurement.run(delayed_parameters=[\"measurement\"])"
   ]
  },
  {
   "cell_type": "code",
   "execution_count": 53,
   "metadata": {},
   "outputs": [
    {
     "data": {
      "text/plain": [
       "('C:\\\\Users\\\\Administrator\\\\data\\\\2017-11-22\\\\2017-11-22_001.dat',\n",
       " 'C:\\\\Users\\\\Administrator\\\\data\\\\2017-11-22\\\\2017-11-22_001.meta.txt')"
      ]
     },
     "execution_count": 53,
     "metadata": {},
     "output_type": "execute_result"
    }
   ],
   "source": [
    "data.output_files()"
   ]
  },
  {
   "cell_type": "code",
   "execution_count": null,
   "metadata": {},
   "outputs": [],
   "source": []
  }
 ],
 "metadata": {
  "kernelspec": {
   "display_name": "Python 3",
   "language": "python",
   "name": "python3"
  },
  "language_info": {
   "codemirror_mode": {
    "name": "ipython",
    "version": 3
   },
   "file_extension": ".py",
   "mimetype": "text/x-python",
   "name": "python",
   "nbconvert_exporter": "python",
   "pygments_lexer": "ipython3",
   "version": "3.6.3"
  }
 },
 "nbformat": 4,
 "nbformat_minor": 2
}
